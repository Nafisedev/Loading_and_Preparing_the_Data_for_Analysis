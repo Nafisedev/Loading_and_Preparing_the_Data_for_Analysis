{
  "nbformat": 4,
  "nbformat_minor": 0,
  "metadata": {
    "colab": {
      "name": "Loading and Preparing the Data for Analysis.ipynb",
      "provenance": [],
      "collapsed_sections": []
    },
    "kernelspec": {
      "name": "python3",
      "display_name": "Python 3"
    }
  },
  "cells": [
    {
      "cell_type": "markdown",
      "metadata": {
        "id": "5IlYtTj5EFyt"
      },
      "source": [
        "\n",
        "Exercise 2.01: Loading and Preparing the Data for Analysis\n",
        "\n"
      ]
    },
    {
      "cell_type": "code",
      "metadata": {
        "id": "-pDIl5zDxLh4",
        "colab": {
          "base_uri": "https://localhost:8080/",
          "height": 72
        },
        "outputId": "9790377f-760a-4a36-989a-f7c11f81348a"
      },
      "source": [
        "#import necessary library\n",
        "%matplotlib inline\n",
        "import matplotlib as mpl\n",
        "import seaborn as sns\n",
        "import matplotlib.pyplot as plt\n",
        "import statsmodels.formula.api as smf\n",
        "import statsmodels.graphics.api as smg\n",
        "import pandas as pd\n",
        "import numpy as np\n",
        "import patsy\n",
        "from statsmodels.graphics.correlation import plot_corr\n",
        "from sklearn.model_selection import train_test_split\n",
        "plt.style.use ('seaborn')"
      ],
      "execution_count": null,
      "outputs": [
        {
          "output_type": "stream",
          "text": [
            "/usr/local/lib/python3.6/dist-packages/statsmodels/tools/_testing.py:19: FutureWarning: pandas.util.testing is deprecated. Use the functions in the public API at pandas.testing instead.\n",
            "  import pandas.util.testing as tm\n"
          ],
          "name": "stderr"
        }
      ]
    },
    {
      "cell_type": "code",
      "metadata": {
        "id": "PjCcIq0x0G-W"
      },
      "source": [
        "#read csv file or dataset files from github\n",
        "rawbostondata = pd.read_csv('https://raw.githubusercontent.com/PacktWorkshops/The-Data-Science-Workshop/master/Chapter02/Dataset/Boston.csv')"
      ],
      "execution_count": null,
      "outputs": []
    },
    {
      "cell_type": "code",
      "metadata": {
        "id": "ws7JlhDp0aC_",
        "outputId": "a9ea2115-4530-4a6a-b1fb-44e2bfe83a8a",
        "colab": {
          "base_uri": "https://localhost:8080/",
          "height": 206
        }
      },
      "source": [
        "#.head show the 5 first line of our file\n",
        "rawbostondata.head()"
      ],
      "execution_count": null,
      "outputs": [
        {
          "output_type": "execute_result",
          "data": {
            "text/html": [
              "<div>\n",
              "<style scoped>\n",
              "    .dataframe tbody tr th:only-of-type {\n",
              "        vertical-align: middle;\n",
              "    }\n",
              "\n",
              "    .dataframe tbody tr th {\n",
              "        vertical-align: top;\n",
              "    }\n",
              "\n",
              "    .dataframe thead th {\n",
              "        text-align: right;\n",
              "    }\n",
              "</style>\n",
              "<table border=\"1\" class=\"dataframe\">\n",
              "  <thead>\n",
              "    <tr style=\"text-align: right;\">\n",
              "      <th></th>\n",
              "      <th>CRIM</th>\n",
              "      <th>ZN</th>\n",
              "      <th>INDUS</th>\n",
              "      <th>CHAS</th>\n",
              "      <th>NOX</th>\n",
              "      <th>RM</th>\n",
              "      <th>AGE</th>\n",
              "      <th>DIS</th>\n",
              "      <th>RAD</th>\n",
              "      <th>TAX</th>\n",
              "      <th>PTRATIO</th>\n",
              "      <th>LSTAT</th>\n",
              "      <th>MEDV</th>\n",
              "    </tr>\n",
              "  </thead>\n",
              "  <tbody>\n",
              "    <tr>\n",
              "      <th>0</th>\n",
              "      <td>0.00632</td>\n",
              "      <td>18.0</td>\n",
              "      <td>2.31</td>\n",
              "      <td>0</td>\n",
              "      <td>0.538</td>\n",
              "      <td>6.575</td>\n",
              "      <td>65.2</td>\n",
              "      <td>4.0900</td>\n",
              "      <td>1</td>\n",
              "      <td>296</td>\n",
              "      <td>15.3</td>\n",
              "      <td>4.98</td>\n",
              "      <td>24.0</td>\n",
              "    </tr>\n",
              "    <tr>\n",
              "      <th>1</th>\n",
              "      <td>0.02731</td>\n",
              "      <td>0.0</td>\n",
              "      <td>7.07</td>\n",
              "      <td>0</td>\n",
              "      <td>0.469</td>\n",
              "      <td>6.421</td>\n",
              "      <td>78.9</td>\n",
              "      <td>4.9671</td>\n",
              "      <td>2</td>\n",
              "      <td>242</td>\n",
              "      <td>17.8</td>\n",
              "      <td>9.14</td>\n",
              "      <td>21.6</td>\n",
              "    </tr>\n",
              "    <tr>\n",
              "      <th>2</th>\n",
              "      <td>0.02729</td>\n",
              "      <td>0.0</td>\n",
              "      <td>7.07</td>\n",
              "      <td>0</td>\n",
              "      <td>0.469</td>\n",
              "      <td>7.185</td>\n",
              "      <td>61.1</td>\n",
              "      <td>4.9671</td>\n",
              "      <td>2</td>\n",
              "      <td>242</td>\n",
              "      <td>17.8</td>\n",
              "      <td>4.03</td>\n",
              "      <td>34.7</td>\n",
              "    </tr>\n",
              "    <tr>\n",
              "      <th>3</th>\n",
              "      <td>0.03237</td>\n",
              "      <td>0.0</td>\n",
              "      <td>2.18</td>\n",
              "      <td>0</td>\n",
              "      <td>0.458</td>\n",
              "      <td>6.998</td>\n",
              "      <td>45.8</td>\n",
              "      <td>6.0622</td>\n",
              "      <td>3</td>\n",
              "      <td>222</td>\n",
              "      <td>18.7</td>\n",
              "      <td>2.94</td>\n",
              "      <td>33.4</td>\n",
              "    </tr>\n",
              "    <tr>\n",
              "      <th>4</th>\n",
              "      <td>0.06905</td>\n",
              "      <td>0.0</td>\n",
              "      <td>2.18</td>\n",
              "      <td>0</td>\n",
              "      <td>0.458</td>\n",
              "      <td>7.147</td>\n",
              "      <td>54.2</td>\n",
              "      <td>6.0622</td>\n",
              "      <td>3</td>\n",
              "      <td>222</td>\n",
              "      <td>18.7</td>\n",
              "      <td>5.33</td>\n",
              "      <td>36.2</td>\n",
              "    </tr>\n",
              "  </tbody>\n",
              "</table>\n",
              "</div>"
            ],
            "text/plain": [
              "      CRIM   ZN   INDUS   CHAS    NOX  ...  RAD  TAX  PTRATIO  LSTAT  MEDV\n",
              "0  0.00632  18.0    2.31     0  0.538  ...    1  296     15.3   4.98  24.0\n",
              "1  0.02731   0.0    7.07     0  0.469  ...    2  242     17.8   9.14  21.6\n",
              "2  0.02729   0.0    7.07     0  0.469  ...    2  242     17.8   4.03  34.7\n",
              "3  0.03237   0.0    2.18     0  0.458  ...    3  222     18.7   2.94  33.4\n",
              "4  0.06905   0.0    2.18     0  0.458  ...    3  222     18.7   5.33  36.2\n",
              "\n",
              "[5 rows x 13 columns]"
            ]
          },
          "metadata": {
            "tags": []
          },
          "execution_count": 4
        }
      ]
    },
    {
      "cell_type": "code",
      "metadata": {
        "id": "d7VTwoox0hUM"
      },
      "source": [
        "#check for null values and drop them\n",
        "rawbostondata = rawbostondata.dropna()"
      ],
      "execution_count": null,
      "outputs": []
    },
    {
      "cell_type": "code",
      "metadata": {
        "id": "JyxVKeZM0ssB"
      },
      "source": [
        "#check for duplicate values and drop them\n",
        "rawbostondata = rawbostondata.drop_duplicates()"
      ],
      "execution_count": null,
      "outputs": []
    },
    {
      "cell_type": "code",
      "metadata": {
        "id": "v_ffnM-H05A7",
        "outputId": "31f97c3c-6f9b-4470-9538-739e4e2114c6",
        "colab": {
          "base_uri": "https://localhost:8080/",
          "height": 243
        }
      },
      "source": [
        "#make a list of the headers\n",
        "list(rawbostondata.columns)"
      ],
      "execution_count": null,
      "outputs": [
        {
          "output_type": "execute_result",
          "data": {
            "text/plain": [
              "['CRIM',\n",
              " ' ZN ',\n",
              " 'INDUS ',\n",
              " 'CHAS',\n",
              " 'NOX',\n",
              " 'RM',\n",
              " 'AGE',\n",
              " 'DIS',\n",
              " 'RAD',\n",
              " 'TAX',\n",
              " 'PTRATIO',\n",
              " 'LSTAT',\n",
              " 'MEDV']"
            ]
          },
          "metadata": {
            "tags": []
          },
          "execution_count": 7
        }
      ]
    },
    {
      "cell_type": "code",
      "metadata": {
        "id": "QlVtru0y0-vT"
      },
      "source": [
        "#rename the headers with meaningful :) character by macking dictionary of headers\n",
        "rawbostondata_rename = rawbostondata.rename (columns = {\n",
        "   'CRIM': '1',\n",
        " ' ZN ': '2',\n",
        " 'INDUS ': '3',\n",
        " 'CHAS': '4',\n",
        " 'NOX': '5',\n",
        " 'RM': '6',\n",
        " 'AGE': '7',\n",
        " 'DIS': '8',\n",
        " 'RAD': '9',\n",
        " 'TAX': '10',\n",
        " 'PTRATIO': '11',\n",
        " 'LSTAT': '12',\n",
        " 'MEDV': '13' \n",
        "})\n",
        "rawbostondata_rename.head()"
      ],
      "execution_count": null,
      "outputs": []
    },
    {
      "cell_type": "code",
      "metadata": {
        "id": "lP9afugU2FkI",
        "outputId": "23a0ba50-8cb6-499c-8647-e8d6b66f5008",
        "colab": {
          "base_uri": "https://localhost:8080/",
          "height": 364
        }
      },
      "source": [
        "#using .info help us to understand the type, count of non null, name of column of our data\n",
        "rawbostondata_rename.info()"
      ],
      "execution_count": null,
      "outputs": [
        {
          "output_type": "stream",
          "text": [
            "<class 'pandas.core.frame.DataFrame'>\n",
            "Int64Index: 506 entries, 0 to 505\n",
            "Data columns (total 13 columns):\n",
            " #   Column  Non-Null Count  Dtype  \n",
            "---  ------  --------------  -----  \n",
            " 0   1       506 non-null    float64\n",
            " 1   2       506 non-null    float64\n",
            " 2   3       506 non-null    float64\n",
            " 3   4       506 non-null    int64  \n",
            " 4   5       506 non-null    float64\n",
            " 5   6       506 non-null    float64\n",
            " 6   7       506 non-null    float64\n",
            " 7   8       506 non-null    float64\n",
            " 8   9       506 non-null    int64  \n",
            " 9   10      506 non-null    int64  \n",
            " 10  11      506 non-null    float64\n",
            " 11  12      506 non-null    float64\n",
            " 12  13      506 non-null    float64\n",
            "dtypes: float64(10), int64(3)\n",
            "memory usage: 55.3 KB\n"
          ],
          "name": "stdout"
        }
      ]
    },
    {
      "cell_type": "code",
      "metadata": {
        "id": "-V39qcUs2OGU",
        "outputId": "727fe0d6-71ac-4de6-b4c7-2b9ec904cf65",
        "colab": {
          "base_uri": "https://localhost:8080/",
          "height": 457
        }
      },
      "source": [
        "#.describe make a table of mean, std, min, 25%, 50%, 75%, max of our data\n",
        "rawbostondata_rename.describe(include=[np.number]).T"
      ],
      "execution_count": null,
      "outputs": [
        {
          "output_type": "execute_result",
          "data": {
            "text/html": [
              "<div>\n",
              "<style scoped>\n",
              "    .dataframe tbody tr th:only-of-type {\n",
              "        vertical-align: middle;\n",
              "    }\n",
              "\n",
              "    .dataframe tbody tr th {\n",
              "        vertical-align: top;\n",
              "    }\n",
              "\n",
              "    .dataframe thead th {\n",
              "        text-align: right;\n",
              "    }\n",
              "</style>\n",
              "<table border=\"1\" class=\"dataframe\">\n",
              "  <thead>\n",
              "    <tr style=\"text-align: right;\">\n",
              "      <th></th>\n",
              "      <th>count</th>\n",
              "      <th>mean</th>\n",
              "      <th>std</th>\n",
              "      <th>min</th>\n",
              "      <th>25%</th>\n",
              "      <th>50%</th>\n",
              "      <th>75%</th>\n",
              "      <th>max</th>\n",
              "    </tr>\n",
              "  </thead>\n",
              "  <tbody>\n",
              "    <tr>\n",
              "      <th>1</th>\n",
              "      <td>506.0</td>\n",
              "      <td>3.613524</td>\n",
              "      <td>8.601545</td>\n",
              "      <td>0.00632</td>\n",
              "      <td>0.082045</td>\n",
              "      <td>0.25651</td>\n",
              "      <td>3.677082</td>\n",
              "      <td>88.9762</td>\n",
              "    </tr>\n",
              "    <tr>\n",
              "      <th>2</th>\n",
              "      <td>506.0</td>\n",
              "      <td>11.363636</td>\n",
              "      <td>23.322453</td>\n",
              "      <td>0.00000</td>\n",
              "      <td>0.000000</td>\n",
              "      <td>0.00000</td>\n",
              "      <td>12.500000</td>\n",
              "      <td>100.0000</td>\n",
              "    </tr>\n",
              "    <tr>\n",
              "      <th>3</th>\n",
              "      <td>506.0</td>\n",
              "      <td>11.136779</td>\n",
              "      <td>6.860353</td>\n",
              "      <td>0.46000</td>\n",
              "      <td>5.190000</td>\n",
              "      <td>9.69000</td>\n",
              "      <td>18.100000</td>\n",
              "      <td>27.7400</td>\n",
              "    </tr>\n",
              "    <tr>\n",
              "      <th>4</th>\n",
              "      <td>506.0</td>\n",
              "      <td>0.069170</td>\n",
              "      <td>0.253994</td>\n",
              "      <td>0.00000</td>\n",
              "      <td>0.000000</td>\n",
              "      <td>0.00000</td>\n",
              "      <td>0.000000</td>\n",
              "      <td>1.0000</td>\n",
              "    </tr>\n",
              "    <tr>\n",
              "      <th>5</th>\n",
              "      <td>506.0</td>\n",
              "      <td>0.554695</td>\n",
              "      <td>0.115878</td>\n",
              "      <td>0.38500</td>\n",
              "      <td>0.449000</td>\n",
              "      <td>0.53800</td>\n",
              "      <td>0.624000</td>\n",
              "      <td>0.8710</td>\n",
              "    </tr>\n",
              "    <tr>\n",
              "      <th>6</th>\n",
              "      <td>506.0</td>\n",
              "      <td>6.284634</td>\n",
              "      <td>0.702617</td>\n",
              "      <td>3.56100</td>\n",
              "      <td>5.885500</td>\n",
              "      <td>6.20850</td>\n",
              "      <td>6.623500</td>\n",
              "      <td>8.7800</td>\n",
              "    </tr>\n",
              "    <tr>\n",
              "      <th>7</th>\n",
              "      <td>506.0</td>\n",
              "      <td>68.574901</td>\n",
              "      <td>28.148861</td>\n",
              "      <td>2.90000</td>\n",
              "      <td>45.025000</td>\n",
              "      <td>77.50000</td>\n",
              "      <td>94.075000</td>\n",
              "      <td>100.0000</td>\n",
              "    </tr>\n",
              "    <tr>\n",
              "      <th>8</th>\n",
              "      <td>506.0</td>\n",
              "      <td>3.795043</td>\n",
              "      <td>2.105710</td>\n",
              "      <td>1.12960</td>\n",
              "      <td>2.100175</td>\n",
              "      <td>3.20745</td>\n",
              "      <td>5.188425</td>\n",
              "      <td>12.1265</td>\n",
              "    </tr>\n",
              "    <tr>\n",
              "      <th>9</th>\n",
              "      <td>506.0</td>\n",
              "      <td>9.549407</td>\n",
              "      <td>8.707259</td>\n",
              "      <td>1.00000</td>\n",
              "      <td>4.000000</td>\n",
              "      <td>5.00000</td>\n",
              "      <td>24.000000</td>\n",
              "      <td>24.0000</td>\n",
              "    </tr>\n",
              "    <tr>\n",
              "      <th>10</th>\n",
              "      <td>506.0</td>\n",
              "      <td>408.237154</td>\n",
              "      <td>168.537116</td>\n",
              "      <td>187.00000</td>\n",
              "      <td>279.000000</td>\n",
              "      <td>330.00000</td>\n",
              "      <td>666.000000</td>\n",
              "      <td>711.0000</td>\n",
              "    </tr>\n",
              "    <tr>\n",
              "      <th>11</th>\n",
              "      <td>506.0</td>\n",
              "      <td>18.455534</td>\n",
              "      <td>2.164946</td>\n",
              "      <td>12.60000</td>\n",
              "      <td>17.400000</td>\n",
              "      <td>19.05000</td>\n",
              "      <td>20.200000</td>\n",
              "      <td>22.0000</td>\n",
              "    </tr>\n",
              "    <tr>\n",
              "      <th>12</th>\n",
              "      <td>506.0</td>\n",
              "      <td>12.653063</td>\n",
              "      <td>7.141062</td>\n",
              "      <td>1.73000</td>\n",
              "      <td>6.950000</td>\n",
              "      <td>11.36000</td>\n",
              "      <td>16.955000</td>\n",
              "      <td>37.9700</td>\n",
              "    </tr>\n",
              "    <tr>\n",
              "      <th>13</th>\n",
              "      <td>506.0</td>\n",
              "      <td>22.532806</td>\n",
              "      <td>9.197104</td>\n",
              "      <td>5.00000</td>\n",
              "      <td>17.025000</td>\n",
              "      <td>21.20000</td>\n",
              "      <td>25.000000</td>\n",
              "      <td>50.0000</td>\n",
              "    </tr>\n",
              "  </tbody>\n",
              "</table>\n",
              "</div>"
            ],
            "text/plain": [
              "    count        mean         std  ...        50%         75%       max\n",
              "1   506.0    3.613524    8.601545  ...    0.25651    3.677082   88.9762\n",
              "2   506.0   11.363636   23.322453  ...    0.00000   12.500000  100.0000\n",
              "3   506.0   11.136779    6.860353  ...    9.69000   18.100000   27.7400\n",
              "4   506.0    0.069170    0.253994  ...    0.00000    0.000000    1.0000\n",
              "5   506.0    0.554695    0.115878  ...    0.53800    0.624000    0.8710\n",
              "6   506.0    6.284634    0.702617  ...    6.20850    6.623500    8.7800\n",
              "7   506.0   68.574901   28.148861  ...   77.50000   94.075000  100.0000\n",
              "8   506.0    3.795043    2.105710  ...    3.20745    5.188425   12.1265\n",
              "9   506.0    9.549407    8.707259  ...    5.00000   24.000000   24.0000\n",
              "10  506.0  408.237154  168.537116  ...  330.00000  666.000000  711.0000\n",
              "11  506.0   18.455534    2.164946  ...   19.05000   20.200000   22.0000\n",
              "12  506.0   12.653063    7.141062  ...   11.36000   16.955000   37.9700\n",
              "13  506.0   22.532806    9.197104  ...   21.20000   25.000000   50.0000\n",
              "\n",
              "[13 rows x 8 columns]"
            ]
          },
          "metadata": {
            "tags": []
          },
          "execution_count": 10
        }
      ]
    },
    {
      "cell_type": "code",
      "metadata": {
        "id": "ZpAM3lnh2hjI",
        "outputId": "6664a662-900b-4f20-d8d0-38d275cfc08c",
        "colab": {
          "base_uri": "https://localhost:8080/",
          "height": 457
        }
      },
      "source": [
        "# in this part of code, we train the model and then test it.\n",
        "X = rawbostondata_rename.drop('1', axis=1)\n",
        "y = rawbostondata_rename [['1']]\n",
        "seed = 10\n",
        "test_data_size = 0.3\n",
        "X_train, X_test, y_train, y_test = train_test_split (X, y, test_size = test_data_size, random_state= seed)\n",
        "train_data = pd.concat([X_train, y_train], axis=1)\n",
        "test_data = pd.concat([X_test, y_test], axis=1)\n",
        "train_data.corr (method='pearson')"
      ],
      "execution_count": null,
      "outputs": [
        {
          "output_type": "execute_result",
          "data": {
            "text/html": [
              "<div>\n",
              "<style scoped>\n",
              "    .dataframe tbody tr th:only-of-type {\n",
              "        vertical-align: middle;\n",
              "    }\n",
              "\n",
              "    .dataframe tbody tr th {\n",
              "        vertical-align: top;\n",
              "    }\n",
              "\n",
              "    .dataframe thead th {\n",
              "        text-align: right;\n",
              "    }\n",
              "</style>\n",
              "<table border=\"1\" class=\"dataframe\">\n",
              "  <thead>\n",
              "    <tr style=\"text-align: right;\">\n",
              "      <th></th>\n",
              "      <th>2</th>\n",
              "      <th>3</th>\n",
              "      <th>4</th>\n",
              "      <th>5</th>\n",
              "      <th>6</th>\n",
              "      <th>7</th>\n",
              "      <th>8</th>\n",
              "      <th>9</th>\n",
              "      <th>10</th>\n",
              "      <th>11</th>\n",
              "      <th>12</th>\n",
              "      <th>13</th>\n",
              "      <th>1</th>\n",
              "    </tr>\n",
              "  </thead>\n",
              "  <tbody>\n",
              "    <tr>\n",
              "      <th>2</th>\n",
              "      <td>1.000000</td>\n",
              "      <td>-0.540095</td>\n",
              "      <td>-0.059189</td>\n",
              "      <td>-0.520305</td>\n",
              "      <td>0.355346</td>\n",
              "      <td>-0.577457</td>\n",
              "      <td>0.659340</td>\n",
              "      <td>-0.311920</td>\n",
              "      <td>-0.324172</td>\n",
              "      <td>-0.424612</td>\n",
              "      <td>-0.435827</td>\n",
              "      <td>0.422574</td>\n",
              "      <td>-0.198455</td>\n",
              "    </tr>\n",
              "    <tr>\n",
              "      <th>3</th>\n",
              "      <td>-0.540095</td>\n",
              "      <td>1.000000</td>\n",
              "      <td>0.065271</td>\n",
              "      <td>0.758178</td>\n",
              "      <td>-0.399166</td>\n",
              "      <td>0.667887</td>\n",
              "      <td>-0.728968</td>\n",
              "      <td>0.580813</td>\n",
              "      <td>0.702973</td>\n",
              "      <td>0.398513</td>\n",
              "      <td>0.607457</td>\n",
              "      <td>-0.508338</td>\n",
              "      <td>0.387471</td>\n",
              "    </tr>\n",
              "    <tr>\n",
              "      <th>4</th>\n",
              "      <td>-0.059189</td>\n",
              "      <td>0.065271</td>\n",
              "      <td>1.000000</td>\n",
              "      <td>0.091469</td>\n",
              "      <td>0.107996</td>\n",
              "      <td>0.106329</td>\n",
              "      <td>-0.098551</td>\n",
              "      <td>0.022731</td>\n",
              "      <td>-0.007864</td>\n",
              "      <td>-0.094255</td>\n",
              "      <td>-0.041110</td>\n",
              "      <td>0.136831</td>\n",
              "      <td>-0.044587</td>\n",
              "    </tr>\n",
              "    <tr>\n",
              "      <th>5</th>\n",
              "      <td>-0.520305</td>\n",
              "      <td>0.758178</td>\n",
              "      <td>0.091469</td>\n",
              "      <td>1.000000</td>\n",
              "      <td>-0.306510</td>\n",
              "      <td>0.742016</td>\n",
              "      <td>-0.776311</td>\n",
              "      <td>0.606721</td>\n",
              "      <td>0.662164</td>\n",
              "      <td>0.206809</td>\n",
              "      <td>0.603656</td>\n",
              "      <td>-0.453424</td>\n",
              "      <td>0.405813</td>\n",
              "    </tr>\n",
              "    <tr>\n",
              "      <th>6</th>\n",
              "      <td>0.355346</td>\n",
              "      <td>-0.399166</td>\n",
              "      <td>0.107996</td>\n",
              "      <td>-0.306510</td>\n",
              "      <td>1.000000</td>\n",
              "      <td>-0.263085</td>\n",
              "      <td>0.215439</td>\n",
              "      <td>-0.183000</td>\n",
              "      <td>-0.280341</td>\n",
              "      <td>-0.350828</td>\n",
              "      <td>-0.586573</td>\n",
              "      <td>0.666761</td>\n",
              "      <td>-0.167258</td>\n",
              "    </tr>\n",
              "    <tr>\n",
              "      <th>7</th>\n",
              "      <td>-0.577457</td>\n",
              "      <td>0.667887</td>\n",
              "      <td>0.106329</td>\n",
              "      <td>0.742016</td>\n",
              "      <td>-0.263085</td>\n",
              "      <td>1.000000</td>\n",
              "      <td>-0.751059</td>\n",
              "      <td>0.458717</td>\n",
              "      <td>0.515376</td>\n",
              "      <td>0.289976</td>\n",
              "      <td>0.639881</td>\n",
              "      <td>-0.419062</td>\n",
              "      <td>0.355730</td>\n",
              "    </tr>\n",
              "    <tr>\n",
              "      <th>8</th>\n",
              "      <td>0.659340</td>\n",
              "      <td>-0.728968</td>\n",
              "      <td>-0.098551</td>\n",
              "      <td>-0.776311</td>\n",
              "      <td>0.215439</td>\n",
              "      <td>-0.751059</td>\n",
              "      <td>1.000000</td>\n",
              "      <td>-0.494932</td>\n",
              "      <td>-0.543333</td>\n",
              "      <td>-0.259140</td>\n",
              "      <td>-0.522120</td>\n",
              "      <td>0.289658</td>\n",
              "      <td>-0.378997</td>\n",
              "    </tr>\n",
              "    <tr>\n",
              "      <th>9</th>\n",
              "      <td>-0.311920</td>\n",
              "      <td>0.580813</td>\n",
              "      <td>0.022731</td>\n",
              "      <td>0.606721</td>\n",
              "      <td>-0.183000</td>\n",
              "      <td>0.458717</td>\n",
              "      <td>-0.494932</td>\n",
              "      <td>1.000000</td>\n",
              "      <td>0.908578</td>\n",
              "      <td>0.462290</td>\n",
              "      <td>0.456592</td>\n",
              "      <td>-0.383132</td>\n",
              "      <td>0.608838</td>\n",
              "    </tr>\n",
              "    <tr>\n",
              "      <th>10</th>\n",
              "      <td>-0.324172</td>\n",
              "      <td>0.702973</td>\n",
              "      <td>-0.007864</td>\n",
              "      <td>0.662164</td>\n",
              "      <td>-0.280341</td>\n",
              "      <td>0.515376</td>\n",
              "      <td>-0.543333</td>\n",
              "      <td>0.908578</td>\n",
              "      <td>1.000000</td>\n",
              "      <td>0.462556</td>\n",
              "      <td>0.528029</td>\n",
              "      <td>-0.478903</td>\n",
              "      <td>0.565035</td>\n",
              "    </tr>\n",
              "    <tr>\n",
              "      <th>11</th>\n",
              "      <td>-0.424612</td>\n",
              "      <td>0.398513</td>\n",
              "      <td>-0.094255</td>\n",
              "      <td>0.206809</td>\n",
              "      <td>-0.350828</td>\n",
              "      <td>0.289976</td>\n",
              "      <td>-0.259140</td>\n",
              "      <td>0.462290</td>\n",
              "      <td>0.462556</td>\n",
              "      <td>1.000000</td>\n",
              "      <td>0.374842</td>\n",
              "      <td>-0.503692</td>\n",
              "      <td>0.276530</td>\n",
              "    </tr>\n",
              "    <tr>\n",
              "      <th>12</th>\n",
              "      <td>-0.435827</td>\n",
              "      <td>0.607457</td>\n",
              "      <td>-0.041110</td>\n",
              "      <td>0.603656</td>\n",
              "      <td>-0.586573</td>\n",
              "      <td>0.639881</td>\n",
              "      <td>-0.522120</td>\n",
              "      <td>0.456592</td>\n",
              "      <td>0.528029</td>\n",
              "      <td>0.374842</td>\n",
              "      <td>1.000000</td>\n",
              "      <td>-0.743548</td>\n",
              "      <td>0.406340</td>\n",
              "    </tr>\n",
              "    <tr>\n",
              "      <th>13</th>\n",
              "      <td>0.422574</td>\n",
              "      <td>-0.508338</td>\n",
              "      <td>0.136831</td>\n",
              "      <td>-0.453424</td>\n",
              "      <td>0.666761</td>\n",
              "      <td>-0.419062</td>\n",
              "      <td>0.289658</td>\n",
              "      <td>-0.383132</td>\n",
              "      <td>-0.478903</td>\n",
              "      <td>-0.503692</td>\n",
              "      <td>-0.743548</td>\n",
              "      <td>1.000000</td>\n",
              "      <td>-0.378949</td>\n",
              "    </tr>\n",
              "    <tr>\n",
              "      <th>1</th>\n",
              "      <td>-0.198455</td>\n",
              "      <td>0.387471</td>\n",
              "      <td>-0.044587</td>\n",
              "      <td>0.405813</td>\n",
              "      <td>-0.167258</td>\n",
              "      <td>0.355730</td>\n",
              "      <td>-0.378997</td>\n",
              "      <td>0.608838</td>\n",
              "      <td>0.565035</td>\n",
              "      <td>0.276530</td>\n",
              "      <td>0.406340</td>\n",
              "      <td>-0.378949</td>\n",
              "      <td>1.000000</td>\n",
              "    </tr>\n",
              "  </tbody>\n",
              "</table>\n",
              "</div>"
            ],
            "text/plain": [
              "           2         3         4  ...        12        13         1\n",
              "2   1.000000 -0.540095 -0.059189  ... -0.435827  0.422574 -0.198455\n",
              "3  -0.540095  1.000000  0.065271  ...  0.607457 -0.508338  0.387471\n",
              "4  -0.059189  0.065271  1.000000  ... -0.041110  0.136831 -0.044587\n",
              "5  -0.520305  0.758178  0.091469  ...  0.603656 -0.453424  0.405813\n",
              "6   0.355346 -0.399166  0.107996  ... -0.586573  0.666761 -0.167258\n",
              "7  -0.577457  0.667887  0.106329  ...  0.639881 -0.419062  0.355730\n",
              "8   0.659340 -0.728968 -0.098551  ... -0.522120  0.289658 -0.378997\n",
              "9  -0.311920  0.580813  0.022731  ...  0.456592 -0.383132  0.608838\n",
              "10 -0.324172  0.702973 -0.007864  ...  0.528029 -0.478903  0.565035\n",
              "11 -0.424612  0.398513 -0.094255  ...  0.374842 -0.503692  0.276530\n",
              "12 -0.435827  0.607457 -0.041110  ...  1.000000 -0.743548  0.406340\n",
              "13  0.422574 -0.508338  0.136831  ... -0.743548  1.000000 -0.378949\n",
              "1  -0.198455  0.387471 -0.044587  ...  0.406340 -0.378949  1.000000\n",
              "\n",
              "[13 rows x 13 columns]"
            ]
          },
          "metadata": {
            "tags": []
          },
          "execution_count": 11
        }
      ]
    },
    {
      "cell_type": "code",
      "metadata": {
        "id": "4AhBCe1h608U",
        "outputId": "85b111b7-3b85-4b8c-e37a-230d04a1881b",
        "colab": {
          "base_uri": "https://localhost:8080/",
          "height": 793
        }
      },
      "source": [
        "#here we make a corralation matrix and show them with a plot\n",
        "corrMatrix = train_data.corr (method='pearson')\n",
        "\n",
        "xnames = list(train_data.columns)\n",
        "ynames = list(train_data.columns)\n",
        "plot_corr(corrMatrix, xnames=xnames, ynames=ynames, title=None, normcolor=False, cmap='RdYlBu_r')"
      ],
      "execution_count": null,
      "outputs": [
        {
          "output_type": "execute_result",
          "data": {
            "image/png": "[encoded data removed]",
            "text/plain": [
              "<Figure size 576x396 with 2 Axes>"
            ]
          },
          "metadata": {
            "tags": []
          },
          "execution_count": 12
        },
        {
          "output_type": "display_data",
          "data": {
            "image/png": "[encoded data removed]",
            "text/plain": [
              "<Figure size 576x396 with 2 Axes>"
            ]
          },
          "metadata": {
            "tags": []
          }
        }
      ]
    },
    {
      "cell_type": "markdown",
      "metadata": {
        "id": "3NqLP6FWD9Zv"
      },
      "source": [
        "Exercise 2.02: Graphical Investigation of Linear Relationships Using Python"
      ]
    },
    {
      "cell_type": "code",
      "metadata": {
        "id": "q1iOjnLc8rtX",
        "colab": {
          "base_uri": "https://localhost:8080/",
          "height": 432
        },
        "outputId": "42299027-ca31-42ef-e385-92ba33247d31"
      },
      "source": [
        "# in this part, we show linear relationship of our data  \n",
        "fig, ax = plt.subplots (figsize= (10,6))\n",
        "sns.regplot (x= '13', y= '1', ci=None, data= train_data, ax= ax, color= 'k', scatter_kws= {'s':20, 'color':'royalblue', 'alpha':1})\n",
        "ax.set_xlabel ('Crime rate per Capita', fontsize= 15, fontname= 'DejaVu Sans')\n",
        "ax.set_ylabel (\"Median value of owner-occupied homes in $1000's\", fontsize= 15, fontname= 'DejaVu Sans')\n",
        "ax.set_xlim (left= None, right= None)\n",
        "ax.set_ylim (bottom= None, top= 30)\n",
        "ax.tick_params(axis= 'both', which= 'major', labelsize= 12)\n",
        "fig.tight_layout()"
      ],
      "execution_count": null,
      "outputs": [
        {
          "output_type": "display_data",
          "data": {
            "image/png": "[encoded data removed]",
            "text/plain": [
              "<Figure size 720x432 with 1 Axes>"
            ]
          },
          "metadata": {
            "tags": []
          }
        }
      ]
    },
    {
      "cell_type": "markdown",
      "metadata": {
        "id": "K5-x1xayaW54"
      },
      "source": [
        "Examining a Possible Log-Linear Relationship Using Python"
      ]
    },
    {
      "cell_type": "code",
      "metadata": {
        "id": "4KmswiCaaX1L",
        "colab": {
          "base_uri": "https://localhost:8080/",
          "height": 441
        },
        "outputId": "52477376-8d77-4ec6-dd6a-a0340fb6a6f1"
      },
      "source": [
        "# in this part, we show log-linear relationship of our data with 95% confidence interval\n",
        "# we use seaborn (regplot) library to creat a log-linear plot and fit a regression line through it\n",
        "fig, ax = plt.subplots (figsize= (10,6))\n",
        "y = np.log (train_data ['1'])\n",
        "sns.regplot (x = '13', y= y, ci= 95, data= train_data, ax= ax, color= 'k', scatter_kws= {'s': 20, 'color': 'royalblue', 'alpha': 1})\n",
        "ax.set_ylabel ('log of crime rate per capita', fontsize= 15, fontname= 'DejaVu Sans')\n",
        "ax.set_xlabel (\"Median value of owner-occupied homes in $1000's\", fontsize= 15, fontname= 'DejaVu Sans')\n",
        "ax.set_xlim (left= None, right= None)\n",
        "ax.set_ylim (bottom= None, top= None)\n",
        "ax.tick_params (axis= 'both', which= 'major', labelsize= 12)\n",
        "fig.tight_layout()"
      ],
      "execution_count": null,
      "outputs": [
        {
          "output_type": "display_data",
          "data": {
            "image/png": "[encoded data removed]",
            "text/plain": [
              "<Figure size 720x432 with 1 Axes>"
            ]
          },
          "metadata": {
            "tags": []
          }
        }
      ]
    }
  ]
}